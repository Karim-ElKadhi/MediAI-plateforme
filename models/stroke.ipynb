{
  "cells": [
    {
      "cell_type": "code",
      "execution_count": null,
      "metadata": {
        "colab": {
          "base_uri": "https://localhost:8080/"
        },
        "id": "f1f86c0e",
        "outputId": "87335efa-2dc8-4779-abb9-f27717b60c64"
      },
      "outputs": [],
      "source": [
        "#!pip install catboost"
      ]
    },
    {
      "cell_type": "markdown",
      "metadata": {},
      "source": [
        "Import all necessary libraries"
      ]
    },
    {
      "cell_type": "code",
      "execution_count": 1,
      "metadata": {
        "id": "OJ1QX_mkojQY"
      },
      "outputs": [],
      "source": [
        "from sklearn.model_selection import train_test_split\n",
        "from sklearn.impute import SimpleImputer\n",
        "from sklearn.preprocessing import OneHotEncoder\n",
        "from sklearn.compose import ColumnTransformer\n",
        "from sklearn.pipeline import Pipeline\n",
        "from xgboost import XGBClassifier\n",
        "from sklearn.metrics import classification_report\n",
        "import pickle\n",
        "import pandas as pd\n",
        "from sklearn.impute import KNNImputer\n"
      ]
    },
    {
      "cell_type": "markdown",
      "metadata": {},
      "source": [
        "Import datatset"
      ]
    },
    {
      "cell_type": "code",
      "execution_count": null,
      "metadata": {
        "id": "weCSZOVtoJgo"
      },
      "outputs": [],
      "source": [
        "df = pd.read_csv(\".\\datasets\\healthcare-dataset-stroke-data.csv\")\n"
      ]
    },
    {
      "cell_type": "markdown",
      "metadata": {},
      "source": [
        "Preprocess our dataset"
      ]
    },
    {
      "cell_type": "code",
      "execution_count": 3,
      "metadata": {
        "id": "ZHOFYSgPo3xp"
      },
      "outputs": [],
      "source": [
        "df_model = df[[\n",
        "    'gender', 'age', 'hypertension', 'heart_disease',\n",
        "    'avg_glucose_level', 'bmi', 'smoking_status', 'stroke'\n",
        "]].copy()\n",
        "\n",
        "# Map gender to binary: Male = 1, Female = 0\n",
        "df_model['gender'] = df_model['gender'].map({'Male': 1, 'Female': 0, 'Other': 0})\n",
        "\n",
        "# Drop rows with missing gender (if any) after mapping\n",
        "df_model.dropna(subset=['gender'], inplace=True)\n",
        "\n",
        "# Define features and target\n",
        "X = df_model.drop(columns='stroke')\n",
        "y = df_model['stroke']\n",
        "\n",
        "# Define preprocessing pipeline\n",
        "numeric_features = ['age', 'avg_glucose_level', 'bmi']\n",
        "numeric_transformer = KNNImputer(n_neighbors=5)\n",
        "\n",
        "categorical_features = ['smoking_status']\n",
        "categorical_transformer = OneHotEncoder(handle_unknown='ignore')\n",
        "\n",
        "preprocessor = ColumnTransformer(\n",
        "    transformers=[\n",
        "        ('num', numeric_transformer, numeric_features),\n",
        "        ('cat', categorical_transformer, categorical_features)\n",
        "    ],\n",
        "    remainder='passthrough'  # gender, hypertension, heart_disease\n",
        ")"
      ]
    },
    {
      "cell_type": "code",
      "execution_count": 4,
      "metadata": {
        "id": "38l8gDxjqql2"
      },
      "outputs": [],
      "source": [
        "# Fit the preprocessor on the training data\n",
        "preprocessor.fit(X)\n",
        "\n",
        "# Transform the training and testing data\n",
        "X = preprocessor.transform(X)\n"
      ]
    },
    {
      "cell_type": "markdown",
      "metadata": {},
      "source": [
        "Balance the classes (initially 96% of 0 vs only 4% of 1 )"
      ]
    },
    {
      "cell_type": "code",
      "execution_count": 5,
      "metadata": {
        "id": "uZTTa3TY3Lbs"
      },
      "outputs": [],
      "source": [
        "from imblearn.over_sampling import SMOTE\n",
        "smote = SMOTE(random_state=42)\n",
        "X_resampled, y_resampled = smote.fit_resample(X,y)"
      ]
    },
    {
      "cell_type": "markdown",
      "metadata": {},
      "source": [
        "Split the data"
      ]
    },
    {
      "cell_type": "code",
      "execution_count": 6,
      "metadata": {
        "id": "n2eMV3sEwRLh"
      },
      "outputs": [],
      "source": [
        "X_train, X_test, y_train, y_test = train_test_split(X_resampled, y_resampled, test_size=0.2, random_state=42)\n"
      ]
    },
    {
      "cell_type": "code",
      "execution_count": 7,
      "metadata": {
        "colab": {
          "base_uri": "https://localhost:8080/",
          "height": 178
        },
        "id": "2nJJQVPJ36xr",
        "outputId": "62883679-2e22-455b-b8e7-bbefd56d71ef"
      },
      "outputs": [
        {
          "data": {
            "text/html": [
              "<div>\n",
              "<style scoped>\n",
              "    .dataframe tbody tr th:only-of-type {\n",
              "        vertical-align: middle;\n",
              "    }\n",
              "\n",
              "    .dataframe tbody tr th {\n",
              "        vertical-align: top;\n",
              "    }\n",
              "\n",
              "    .dataframe thead th {\n",
              "        text-align: right;\n",
              "    }\n",
              "</style>\n",
              "<table border=\"1\" class=\"dataframe\">\n",
              "  <thead>\n",
              "    <tr style=\"text-align: right;\">\n",
              "      <th></th>\n",
              "      <th>count</th>\n",
              "    </tr>\n",
              "    <tr>\n",
              "      <th>stroke</th>\n",
              "      <th></th>\n",
              "    </tr>\n",
              "  </thead>\n",
              "  <tbody>\n",
              "    <tr>\n",
              "      <th>1</th>\n",
              "      <td>3891</td>\n",
              "    </tr>\n",
              "    <tr>\n",
              "      <th>0</th>\n",
              "      <td>3886</td>\n",
              "    </tr>\n",
              "  </tbody>\n",
              "</table>\n",
              "</div><br><label><b>dtype:</b> int64</label>"
            ],
            "text/plain": [
              "stroke\n",
              "1    3891\n",
              "0    3886\n",
              "Name: count, dtype: int64"
            ]
          },
          "execution_count": 7,
          "metadata": {},
          "output_type": "execute_result"
        }
      ],
      "source": [
        "y_train.value_counts()"
      ]
    },
    {
      "cell_type": "markdown",
      "metadata": {},
      "source": [
        "Choose between most 2 of the most adapted models for medical use Logistic Regression and CatBoost "
      ]
    },
    {
      "cell_type": "code",
      "execution_count": 10,
      "metadata": {
        "id": "2HMJOLQqoOa9"
      },
      "outputs": [],
      "source": [
        "from sklearn.linear_model import LogisticRegression\n",
        "from catboost import CatBoostClassifier\n",
        "models = {\n",
        "    'LogisticRegression': LogisticRegression(class_weight='balanced', max_iter=1000, random_state=42),\n",
        "    'CatBoost' : CatBoostClassifier(iterations=500, learning_rate=0.05, depth=6,eval_metric='F1', verbose=0, random_state=42)\n",
        "}\n"
      ]
    },
    {
      "cell_type": "code",
      "execution_count": 12,
      "metadata": {
        "colab": {
          "base_uri": "https://localhost:8080/"
        },
        "id": "fT0BjzeEsVxo",
        "outputId": "c7a36129-6459-45a2-fe3e-161a231fd057"
      },
      "outputs": [
        {
          "name": "stdout",
          "output_type": "stream",
          "text": [
            "Training LogisticRegression...\n",
            "\n",
            "Classification Report for LogisticRegression:\n",
            "              precision    recall  f1-score   support\n",
            "\n",
            "           0      0.799     0.742     0.769       975\n",
            "           1      0.758     0.812     0.784       970\n",
            "\n",
            "    accuracy                          0.777      1945\n",
            "   macro avg      0.778     0.777     0.777      1945\n",
            "weighted avg      0.778     0.777     0.777      1945\n",
            "\n",
            "Training CatBoost...\n",
            "\n",
            "Classification Report for CatBoost:\n",
            "              precision    recall  f1-score   support\n",
            "\n",
            "           0      0.945     0.983     0.963       975\n",
            "           1      0.982     0.942     0.962       970\n",
            "\n",
            "    accuracy                          0.962      1945\n",
            "   macro avg      0.963     0.962     0.962      1945\n",
            "weighted avg      0.963     0.962     0.962      1945\n",
            "\n"
          ]
        }
      ],
      "source": [
        "best_f1 = 0\n",
        "best_model_name = None\n",
        "best_pipeline = None\n",
        "\n",
        "for name, clf in models.items():\n",
        "    print(f\"Training {name}...\")\n",
        "    pipeline = Pipeline(steps=[\n",
        "        ('classifier', clf)\n",
        "    ])\n",
        "    pipeline.fit(X_train, y_train)\n",
        "\n",
        "    # Predict on the original, processed test set\n",
        "    y_pred = pipeline.predict(X_test)\n",
        "\n",
        "    print(f\"\\nClassification Report for {name}:\")\n",
        "    report = classification_report(y_test, y_pred, digits=3, output_dict=True)\n",
        "    print(classification_report(y_test, y_pred, digits=3))\n",
        "\n",
        "    if report['1']['f1-score'] > best_f1:\n",
        "        best_f1 = report['1']['f1-score']\n",
        "        best_model_name = name\n",
        "        best_pipeline = pipeline"
      ]
    },
    {
      "cell_type": "markdown",
      "metadata": {},
      "source": [
        "CatBoost is by far more accurate"
      ]
    },
    {
      "cell_type": "code",
      "execution_count": 13,
      "metadata": {
        "colab": {
          "base_uri": "https://localhost:8080/",
          "height": 36
        },
        "id": "ESRmUvvXtbnW",
        "outputId": "75513cbc-f77e-40d7-ec04-0b5eaebf2e6c"
      },
      "outputs": [
        {
          "data": {
            "application/vnd.google.colaboratory.intrinsic+json": {
              "type": "string"
            },
            "text/plain": [
              "'CatBoost'"
            ]
          },
          "execution_count": 13,
          "metadata": {},
          "output_type": "execute_result"
        }
      ],
      "source": [
        "best_model_name"
      ]
    },
    {
      "cell_type": "markdown",
      "metadata": {},
      "source": [
        "The learning curve plot indicates that our model has good generalization, is not suffering from high bias"
      ]
    },
    {
      "cell_type": "code",
      "execution_count": 14,
      "metadata": {
        "colab": {
          "base_uri": "https://localhost:8080/",
          "height": 472
        },
        "id": "WrFGpZrjBqI2",
        "outputId": "a7b9c8fb-7cfe-4f44-bb92-79d38d0d5b0c"
      },
      "outputs": [
        {
          "data": {
            "image/png": "[encoded data removed]",
            "text/plain": [
              "<Figure size 640x480 with 1 Axes>"
            ]
          },
          "metadata": {},
          "output_type": "display_data"
        }
      ],
      "source": [
        "from sklearn.model_selection import learning_curve\n",
        "import matplotlib.pyplot as plt\n",
        "import numpy as np\n",
        "\n",
        "train_sizes, train_scores, test_scores = learning_curve(\n",
        "    best_pipeline, X_train, y_train,\n",
        "    cv=5, scoring=\"f1\", n_jobs=-1\n",
        ")\n",
        "\n",
        "plt.plot(train_sizes, np.mean(train_scores, axis=1), label=\"Train\")\n",
        "plt.plot(train_sizes, np.mean(test_scores, axis=1), label=\"Validation\")\n",
        "plt.legend()\n",
        "plt.xlabel(\"Training set size\")\n",
        "plt.ylabel(\"F1 Score\")\n",
        "plt.title(\"Learning Curve\")\n",
        "plt.show()"
      ]
    },
    {
      "cell_type": "code",
      "execution_count": 15,
      "metadata": {
        "colab": {
          "base_uri": "https://localhost:8080/"
        },
        "id": "4MCAup9ICl0g",
        "outputId": "5f9e0f7f-be64-46d6-b9fa-1146b8337066"
      },
      "outputs": [
        {
          "name": "stdout",
          "output_type": "stream",
          "text": [
            "Cross-validation F1 scores: [0.96       0.96349413 0.96349413 0.96416938 0.96596859]\n",
            "Mean: 0.9634252466932486 Std: 0.0019372206058504364\n"
          ]
        }
      ],
      "source": [
        "from sklearn.model_selection import cross_val_score\n",
        "\n",
        "scores = cross_val_score(best_pipeline, X_train, y_train, cv=5, scoring=\"f1\")\n",
        "print(\"Cross-validation F1 scores:\", scores)\n",
        "print(\"Mean:\", scores.mean(), \"Std:\", scores.std())"
      ]
    },
    {
      "cell_type": "markdown",
      "metadata": {},
      "source": [
        "Save the model for future use"
      ]
    },
    {
      "cell_type": "code",
      "execution_count": 16,
      "metadata": {
        "id": "fz9cQkUB7T31"
      },
      "outputs": [],
      "source": [
        "with open('tr_model_best.sav', 'wb') as f:\n",
        "        pickle.dump(best_pipeline, f)"
      ]
    }
  ],
  "metadata": {
    "accelerator": "GPU",
    "colab": {
      "gpuType": "T4",
      "provenance": []
    },
    "kernelspec": {
      "display_name": "Python 3",
      "name": "python3"
    },
    "language_info": {
      "name": "python"
    }
  },
  "nbformat": 4,
  "nbformat_minor": 0
}
